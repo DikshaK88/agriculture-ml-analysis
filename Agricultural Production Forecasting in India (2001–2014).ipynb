{
 "cells": [
  {
   "cell_type": "code",
   "execution_count": 3,
   "id": "eba06c83-da15-401a-9475-700d289f5ca4",
   "metadata": {},
   "outputs": [],
   "source": [
    "\n",
    "import pandas as pd\n",
    "import numpy as np\n",
    "import matplotlib.pyplot as plt\n",
    "import seaborn as sns\n",
    "from sklearn.model_selection import train_test_split\n",
    "from sklearn.ensemble import RandomForestRegressor\n",
    "from sklearn.metrics import mean_squared_error, r2_score\n"
   ]
  },
  {
   "cell_type": "code",
   "execution_count": 4,
   "id": "067c73e6-aae0-4a51-b2f7-0e8135e95f4b",
   "metadata": {},
   "outputs": [
    {
     "name": "stdout",
     "output_type": "stream",
     "text": [
      "    Crop           State  Cost of Cultivation (`/Hectare) A2+FL  \\\n",
      "0  ARHAR   Uttar Pradesh                                9794.05   \n",
      "1  ARHAR       Karnataka                               10593.15   \n",
      "2  ARHAR         Gujarat                               13468.82   \n",
      "3  ARHAR  Andhra Pradesh                               17051.66   \n",
      "4  ARHAR     Maharashtra                               17130.55   \n",
      "\n",
      "   Cost of Cultivation (`/Hectare) C2  Cost of Production (`/Quintal) C2  \\\n",
      "0                            23076.74                            1941.55   \n",
      "1                            16528.68                            2172.46   \n",
      "2                            19551.90                            1898.30   \n",
      "3                            24171.65                            3670.54   \n",
      "4                            25270.26                            2775.80   \n",
      "\n",
      "   Yield (Quintal/ Hectare)   \n",
      "0                       9.83  \n",
      "1                       7.47  \n",
      "2                       9.59  \n",
      "3                       6.42  \n",
      "4                       8.72  \n",
      "<class 'pandas.core.frame.DataFrame'>\n",
      "RangeIndex: 49 entries, 0 to 48\n",
      "Data columns (total 6 columns):\n",
      " #   Column                                 Non-Null Count  Dtype  \n",
      "---  ------                                 --------------  -----  \n",
      " 0   Crop                                   49 non-null     object \n",
      " 1   State                                  49 non-null     object \n",
      " 2   Cost of Cultivation (`/Hectare) A2+FL  49 non-null     float64\n",
      " 3   Cost of Cultivation (`/Hectare) C2     49 non-null     float64\n",
      " 4   Cost of Production (`/Quintal) C2      49 non-null     float64\n",
      " 5   Yield (Quintal/ Hectare)               49 non-null     float64\n",
      "dtypes: float64(4), object(2)\n",
      "memory usage: 2.4+ KB\n",
      "None\n"
     ]
    }
   ],
   "source": [
    "\n",
    "df = pd.read_csv(r\"D:\\datafile (1).csv\")\n",
    "# 3. Display first few rows\n",
    "print(df.head())\n",
    "print(df.info())\n"
   ]
  },
  {
   "cell_type": "code",
   "execution_count": 5,
   "id": "7491d7dd-4e07-470d-98b6-36d079b0bffd",
   "metadata": {},
   "outputs": [
    {
     "name": "stdout",
     "output_type": "stream",
     "text": [
      "['Crop', 'State', 'Cost of Cultivation (`/Hectare) A2+FL', 'Cost of Cultivation (`/Hectare) C2', 'Cost of Production (`/Quintal) C2', 'Yield (Quintal/ Hectare) ']\n"
     ]
    }
   ],
   "source": [
    "print(df.columns.tolist())\n",
    "\n"
   ]
  },
  {
   "cell_type": "code",
   "execution_count": 6,
   "id": "4690c62c-f8d4-43a2-bcbd-7fbfa7420c0f",
   "metadata": {},
   "outputs": [
    {
     "name": "stdout",
     "output_type": "stream",
     "text": [
      "CLEANED COLUMNS:\n",
      " ['Crop', 'State', 'Cost of Cultivation (`/Hectare) A2+FL', 'Cost of Cultivation (`/Hectare) C2', 'Cost of Production (`/Quintal) C2', 'Yield (Quintal/ Hectare)']\n",
      "✅ One-hot encoding successful!\n"
     ]
    }
   ],
   "source": [
    "import pandas as pd\n",
    "\n",
    "# Load the file\n",
    "df = pd.read_csv(\"D:/datafile (1).csv\")\n",
    "\n",
    "# Clean column names (remove extra spaces and newlines)\n",
    "df.columns = df.columns.str.strip()\n",
    "df.columns = df.columns.str.replace('\\n', '', regex=True)\n",
    "\n",
    "# Print cleaned column names\n",
    "print(\"CLEANED COLUMNS:\\n\", df.columns.tolist())\n",
    "\n",
    "# Safely check which columns are categorical\n",
    "categorical_cols = ['Crop', 'State']\n",
    "\n",
    "# Confirm all categorical columns are in DataFrame\n",
    "for col in categorical_cols:\n",
    "    if col not in df.columns:\n",
    "        print(f\"⚠️ Column not found: '{col}'\")\n",
    "\n",
    "# Proceed only if all columns exist\n",
    "if all(col in df.columns for col in categorical_cols):\n",
    "    df = pd.get_dummies(df, columns=categorical_cols)\n",
    "    print(\"✅ One-hot encoding successful!\")\n",
    "else:\n",
    "    print(\"❌ One-hot encoding skipped due to missing columns.\")\n",
    "\n",
    "\n"
   ]
  },
  {
   "cell_type": "code",
   "execution_count": 7,
   "id": "ddd736d5-f88e-4c2b-81aa-5a86a029f762",
   "metadata": {},
   "outputs": [],
   "source": [
    "df.rename(columns={'Production (Tons)': 'production'}, inplace=True)\n"
   ]
  },
  {
   "cell_type": "code",
   "execution_count": 8,
   "id": "9ea62f3e-eb85-4252-96b3-9354057ca554",
   "metadata": {},
   "outputs": [],
   "source": [
    "X = df.drop(['Yield (Quintal/ Hectare)'], axis=1)\n",
    "y = df['Yield (Quintal/ Hectare)']\n"
   ]
  },
  {
   "cell_type": "code",
   "execution_count": 9,
   "id": "692dad0d-fdf9-460e-8aa5-97b0249ea3ed",
   "metadata": {},
   "outputs": [
    {
     "name": "stdout",
     "output_type": "stream",
     "text": [
      "Mean Squared Error: 3407.35\n",
      "R² Score: 0.96\n"
     ]
    },
    {
     "data": {
      "image/png": "[encoded data removed]",
      "text/plain": [
       "<Figure size 800x500 with 1 Axes>"
      ]
     },
     "metadata": {},
     "output_type": "display_data"
    }
   ],
   "source": [
    "X_train, X_test, y_train, y_test = train_test_split(X, y, test_size=0.2, random_state=42)\n",
    "\n",
    "# 8. Train model\n",
    "model = RandomForestRegressor(n_estimators=100, random_state=42)\n",
    "model.fit(X_train, y_train)\n",
    "\n",
    "# 9. Predict\n",
    "y_pred = model.predict(X_test)\n",
    "\n",
    "# 10. Evaluation\n",
    "mse = mean_squared_error(y_test, y_pred)\n",
    "r2 = r2_score(y_test, y_pred)\n",
    "\n",
    "print(f\"Mean Squared Error: {mse:.2f}\")\n",
    "print(f\"R² Score: {r2:.2f}\")\n",
    "\n",
    "# 11. Plot Actual vs Predicted\n",
    "plt.figure(figsize=(8, 5))\n",
    "sns.scatterplot(x=y_test, y=y_pred, alpha=0.7)\n",
    "plt.xlabel(\"Actual Production\")\n",
    "plt.ylabel(\"Predicted Production\")\n",
    "plt.title(\"Actual vs Predicted Crop Production\")\n",
    "plt.grid(True)\n",
    "plt.show()"
   ]
  },
  {
   "cell_type": "code",
   "execution_count": null,
   "id": "96fd5a80-1a4a-4a0d-b0e7-75fc52699716",
   "metadata": {},
   "outputs": [],
   "source": []
  }
 ],
 "metadata": {
  "kernelspec": {
   "display_name": "Python 3 (ipykernel)",
   "language": "python",
   "name": "python3"
  },
  "language_info": {
   "codemirror_mode": {
    "name": "ipython",
    "version": 3
   },
   "file_extension": ".py",
   "mimetype": "text/x-python",
   "name": "python",
   "nbconvert_exporter": "python",
   "pygments_lexer": "ipython3",
   "version": "3.13.2"
  }
 },
 "nbformat": 4,
 "nbformat_minor": 5
}
